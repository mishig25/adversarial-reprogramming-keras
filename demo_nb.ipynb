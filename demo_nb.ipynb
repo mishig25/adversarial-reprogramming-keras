{
 "cells": [
  {
   "cell_type": "markdown",
   "metadata": {},
   "source": [
    "# Show Contents of `model.py`\n",
    "## Contains implementations of:\n",
    " - Custom Keras Layer for Adv Reprogramming\n",
    " - Adv Reprogramming model"
   ]
  },
  {
   "cell_type": "code",
   "execution_count": 9,
   "metadata": {},
   "outputs": [
    {
     "name": "stdout",
     "output_type": "stream",
     "text": [
      "import numpy as np\r\n",
      "import tensorflow as tf\r\n",
      "\r\n",
      "from keras.models import Model\r\n",
      "from keras.engine.topology import Layer\r\n",
      "from keras import backend as K\r\n",
      "from keras.layers import Input\r\n",
      "from keras.applications.imagenet_utils import decode_predictions\r\n",
      "from keras.applications.inception_v3 import InceptionV3, preprocess_input\r\n",
      "from keras.datasets import mnist\r\n",
      "from keras.utils import to_categorical\r\n",
      "from keras.optimizers import Adam\r\n",
      "\r\n",
      "class AdvReprogramLayer(Layer):    \r\n",
      "    \r\n",
      "    def __init__(self, **kwargs):\r\n",
      "        super(AdvReprogramLayer, self).__init__(**kwargs)\r\n",
      "\r\n",
      "    def build(self, input_shape):\r\n",
      "        self.adv_weights = self.add_weight(name='kernel', \r\n",
      "                                      shape=(1,299,299,3),\r\n",
      "                                      initializer='uniform',\r\n",
      "                                      trainable=True)\r\n",
      "        super(AdvReprogramLayer, self).build(input_shape) \r\n",
      "\r\n",
      "    def call(self, x):\r\n",
      "        input_mask = np.pad(np.zeros([1, 28, 28, 3]),\r\n",
      "                            [[0,0], [136, 135], [136, 135], [0,0]],\r\n",
      "                            'constant', constant_values = 1)\r\n",
      "        mask = tf.constant(input_mask, dtype = tf.float32)\r\n",
      "        channel_image = tf.concat([x, x, x], axis = -1)\r\n",
      "        rgb_image = tf.pad(tf.concat([x, x, x], axis = -1), \r\n",
      "        paddings = tf.constant([[0,0], [136, 135], [136, 135], [0,0]]))\r\n",
      "        adv_image = tf.nn.tanh(tf.multiply(self.adv_weights, mask)) + rgb_image\r\n",
      "        self.out_shape = adv_image.shape\r\n",
      "        return adv_image\r\n",
      "\r\n",
      "    def compute_output_shape(self, input_shape):\r\n",
      "        return self.out_shape\r\n",
      "\r\n",
      "class AdvReprogramModel():\r\n",
      "\r\n",
      "    def __init__(self):\r\n",
      "        self.optimizer = Adam(lr=0.05, decay=0.96)\r\n",
      "        self.model = self.build_model(summary = True)\r\n",
      "    \r\n",
      "    def build_model(self, summary = False):\r\n",
      "        mnist_shape = (28,28,1)\r\n",
      "        inputs = Input(shape=mnist_shape)\r\n",
      "        adv = AdvReprogramLayer()(inputs)\r\n",
      "        inception = InceptionV3(weights='imagenet')\r\n",
      "        inception.trainable = False\r\n",
      "        outputs = inception(adv)\r\n",
      "        model = Model(inputs=[inputs],outputs=[outputs])\r\n",
      "        if summary: model.summary()\r\n",
      "        model.compile(optimizer=self.optimizer,\r\n",
      "                        loss='categorical_crossentropy',\r\n",
      "                        metrics=['accuracy'])\r\n",
      "        return model\r\n",
      "    \r\n",
      "    def train(self, epochs=100, batch_size=50):\r\n",
      "        (x_train, y_train), (x_test, y_test) = self.get_mnist()\r\n",
      "        self.model.fit(x_train,y_train,\r\n",
      "                        epochs=epochs,\r\n",
      "                        batch_size=batch_size,\r\n",
      "                        validation_data=(x_test, y_test))\r\n",
      "    \r\n",
      "    def get_mnist(self):\r\n",
      "        (x_train, y_train), (x_test, y_test) = mnist.load_data()\r\n",
      "        x_train = (x_train - 0.5)*2.0\r\n",
      "        x_test = (x_test - 0.5)*2.0\r\n",
      "        x_train = np.expand_dims(x_train, axis=3)\r\n",
      "        x_test = np.expand_dims(x_test, axis=3)\r\n",
      "        y_train = to_categorical(y_train, num_classes=1000)\r\n",
      "        y_test = to_categorical(y_test, num_classes=1000)\r\n",
      "        return (x_train, y_train), (x_test, y_test)"
     ]
    }
   ],
   "source": [
    "!cat model.py"
   ]
  },
  {
   "cell_type": "markdown",
   "metadata": {},
   "source": [
    "## Initialize the model and present its summary"
   ]
  },
  {
   "cell_type": "code",
   "execution_count": 4,
   "metadata": {},
   "outputs": [],
   "source": [
    "from model import AdvReprogramModel"
   ]
  },
  {
   "cell_type": "code",
   "execution_count": 5,
   "metadata": {},
   "outputs": [],
   "source": [
    "adv_model = AdvReprogramModel()"
   ]
  },
  {
   "cell_type": "code",
   "execution_count": 6,
   "metadata": {},
   "outputs": [
    {
     "name": "stdout",
     "output_type": "stream",
     "text": [
      "_________________________________________________________________\n",
      "Layer (type)                 Output Shape              Param #   \n",
      "=================================================================\n",
      "input_3 (InputLayer)         (None, 28, 28, 1)         0         \n",
      "_________________________________________________________________\n",
      "adv_reprogram_layer_2 (AdvRe (?, 299, 299, 3)          268203    \n",
      "_________________________________________________________________\n",
      "inception_v3 (Model)         multiple                  23851784  \n",
      "=================================================================\n",
      "Total params: 24,119,987\n",
      "Trainable params: 268,203\n",
      "Non-trainable params: 23,851,784\n",
      "_________________________________________________________________\n"
     ]
    }
   ],
   "source": [
    "adv_model.model.summary()"
   ]
  },
  {
   "cell_type": "code",
   "execution_count": null,
   "metadata": {},
   "outputs": [],
   "source": [
    "adv_model.train()"
   ]
  }
 ],
 "metadata": {
  "kernelspec": {
   "display_name": "Python 3",
   "language": "python",
   "name": "python3"
  },
  "language_info": {
   "codemirror_mode": {
    "name": "ipython",
    "version": 3
   },
   "file_extension": ".py",
   "mimetype": "text/x-python",
   "name": "python",
   "nbconvert_exporter": "python",
   "pygments_lexer": "ipython3",
   "version": "3.6.5"
  }
 },
 "nbformat": 4,
 "nbformat_minor": 2
}
